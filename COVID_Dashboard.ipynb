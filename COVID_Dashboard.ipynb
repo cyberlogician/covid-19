{
 "cells": [
  {
   "cell_type": "markdown",
   "metadata": {},
   "source": [
    "# COVID Dashboard"
   ]
  },
  {
   "cell_type": "code",
   "execution_count": 1,
   "metadata": {},
   "outputs": [],
   "source": [
    "import matplotlib.pyplot as plt\n",
    "import matplotlib.colors as mcolors\n",
    "from matplotlib.gridspec import GridSpec\n",
    "from matplotlib.ticker import (MultipleLocator, FormatStrFormatter,\n",
    "                               AutoMinorLocator)\n",
    "\n",
    "from pathlib import Path\n",
    "import numpy as np\n",
    "import pandas as pd\n",
    "import datetime\n",
    "import time"
   ]
  },
  {
   "cell_type": "code",
   "execution_count": 2,
   "metadata": {},
   "outputs": [
    {
     "ename": "URLError",
     "evalue": "<urlopen error [Errno 8] nodename nor servname provided, or not known>",
     "output_type": "error",
     "traceback": [
      "\u001b[0;31m---------------------------------------------------------------------------\u001b[0m",
      "\u001b[0;31mgaierror\u001b[0m                                  Traceback (most recent call last)",
      "\u001b[0;32m~/opt/anaconda3/lib/python3.8/urllib/request.py\u001b[0m in \u001b[0;36mdo_open\u001b[0;34m(self, http_class, req, **http_conn_args)\u001b[0m\n\u001b[1;32m   1353\u001b[0m             \u001b[0;32mtry\u001b[0m\u001b[0;34m:\u001b[0m\u001b[0;34m\u001b[0m\u001b[0;34m\u001b[0m\u001b[0m\n\u001b[0;32m-> 1354\u001b[0;31m                 h.request(req.get_method(), req.selector, req.data, headers,\n\u001b[0m\u001b[1;32m   1355\u001b[0m                           encode_chunked=req.has_header('Transfer-encoding'))\n",
      "\u001b[0;32m~/opt/anaconda3/lib/python3.8/http/client.py\u001b[0m in \u001b[0;36mrequest\u001b[0;34m(self, method, url, body, headers, encode_chunked)\u001b[0m\n\u001b[1;32m   1254\u001b[0m         \u001b[0;34m\"\"\"Send a complete request to the server.\"\"\"\u001b[0m\u001b[0;34m\u001b[0m\u001b[0;34m\u001b[0m\u001b[0m\n\u001b[0;32m-> 1255\u001b[0;31m         \u001b[0mself\u001b[0m\u001b[0;34m.\u001b[0m\u001b[0m_send_request\u001b[0m\u001b[0;34m(\u001b[0m\u001b[0mmethod\u001b[0m\u001b[0;34m,\u001b[0m \u001b[0murl\u001b[0m\u001b[0;34m,\u001b[0m \u001b[0mbody\u001b[0m\u001b[0;34m,\u001b[0m \u001b[0mheaders\u001b[0m\u001b[0;34m,\u001b[0m \u001b[0mencode_chunked\u001b[0m\u001b[0;34m)\u001b[0m\u001b[0;34m\u001b[0m\u001b[0;34m\u001b[0m\u001b[0m\n\u001b[0m\u001b[1;32m   1256\u001b[0m \u001b[0;34m\u001b[0m\u001b[0m\n",
      "\u001b[0;32m~/opt/anaconda3/lib/python3.8/http/client.py\u001b[0m in \u001b[0;36m_send_request\u001b[0;34m(self, method, url, body, headers, encode_chunked)\u001b[0m\n\u001b[1;32m   1300\u001b[0m             \u001b[0mbody\u001b[0m \u001b[0;34m=\u001b[0m \u001b[0m_encode\u001b[0m\u001b[0;34m(\u001b[0m\u001b[0mbody\u001b[0m\u001b[0;34m,\u001b[0m \u001b[0;34m'body'\u001b[0m\u001b[0;34m)\u001b[0m\u001b[0;34m\u001b[0m\u001b[0;34m\u001b[0m\u001b[0m\n\u001b[0;32m-> 1301\u001b[0;31m         \u001b[0mself\u001b[0m\u001b[0;34m.\u001b[0m\u001b[0mendheaders\u001b[0m\u001b[0;34m(\u001b[0m\u001b[0mbody\u001b[0m\u001b[0;34m,\u001b[0m \u001b[0mencode_chunked\u001b[0m\u001b[0;34m=\u001b[0m\u001b[0mencode_chunked\u001b[0m\u001b[0;34m)\u001b[0m\u001b[0;34m\u001b[0m\u001b[0;34m\u001b[0m\u001b[0m\n\u001b[0m\u001b[1;32m   1302\u001b[0m \u001b[0;34m\u001b[0m\u001b[0m\n",
      "\u001b[0;32m~/opt/anaconda3/lib/python3.8/http/client.py\u001b[0m in \u001b[0;36mendheaders\u001b[0;34m(self, message_body, encode_chunked)\u001b[0m\n\u001b[1;32m   1249\u001b[0m             \u001b[0;32mraise\u001b[0m \u001b[0mCannotSendHeader\u001b[0m\u001b[0;34m(\u001b[0m\u001b[0;34m)\u001b[0m\u001b[0;34m\u001b[0m\u001b[0;34m\u001b[0m\u001b[0m\n\u001b[0;32m-> 1250\u001b[0;31m         \u001b[0mself\u001b[0m\u001b[0;34m.\u001b[0m\u001b[0m_send_output\u001b[0m\u001b[0;34m(\u001b[0m\u001b[0mmessage_body\u001b[0m\u001b[0;34m,\u001b[0m \u001b[0mencode_chunked\u001b[0m\u001b[0;34m=\u001b[0m\u001b[0mencode_chunked\u001b[0m\u001b[0;34m)\u001b[0m\u001b[0;34m\u001b[0m\u001b[0;34m\u001b[0m\u001b[0m\n\u001b[0m\u001b[1;32m   1251\u001b[0m \u001b[0;34m\u001b[0m\u001b[0m\n",
      "\u001b[0;32m~/opt/anaconda3/lib/python3.8/http/client.py\u001b[0m in \u001b[0;36m_send_output\u001b[0;34m(self, message_body, encode_chunked)\u001b[0m\n\u001b[1;32m   1009\u001b[0m         \u001b[0;32mdel\u001b[0m \u001b[0mself\u001b[0m\u001b[0;34m.\u001b[0m\u001b[0m_buffer\u001b[0m\u001b[0;34m[\u001b[0m\u001b[0;34m:\u001b[0m\u001b[0;34m]\u001b[0m\u001b[0;34m\u001b[0m\u001b[0;34m\u001b[0m\u001b[0m\n\u001b[0;32m-> 1010\u001b[0;31m         \u001b[0mself\u001b[0m\u001b[0;34m.\u001b[0m\u001b[0msend\u001b[0m\u001b[0;34m(\u001b[0m\u001b[0mmsg\u001b[0m\u001b[0;34m)\u001b[0m\u001b[0;34m\u001b[0m\u001b[0;34m\u001b[0m\u001b[0m\n\u001b[0m\u001b[1;32m   1011\u001b[0m \u001b[0;34m\u001b[0m\u001b[0m\n",
      "\u001b[0;32m~/opt/anaconda3/lib/python3.8/http/client.py\u001b[0m in \u001b[0;36msend\u001b[0;34m(self, data)\u001b[0m\n\u001b[1;32m    949\u001b[0m             \u001b[0;32mif\u001b[0m \u001b[0mself\u001b[0m\u001b[0;34m.\u001b[0m\u001b[0mauto_open\u001b[0m\u001b[0;34m:\u001b[0m\u001b[0;34m\u001b[0m\u001b[0;34m\u001b[0m\u001b[0m\n\u001b[0;32m--> 950\u001b[0;31m                 \u001b[0mself\u001b[0m\u001b[0;34m.\u001b[0m\u001b[0mconnect\u001b[0m\u001b[0;34m(\u001b[0m\u001b[0;34m)\u001b[0m\u001b[0;34m\u001b[0m\u001b[0;34m\u001b[0m\u001b[0m\n\u001b[0m\u001b[1;32m    951\u001b[0m             \u001b[0;32melse\u001b[0m\u001b[0;34m:\u001b[0m\u001b[0;34m\u001b[0m\u001b[0;34m\u001b[0m\u001b[0m\n",
      "\u001b[0;32m~/opt/anaconda3/lib/python3.8/http/client.py\u001b[0m in \u001b[0;36mconnect\u001b[0;34m(self)\u001b[0m\n\u001b[1;32m   1416\u001b[0m \u001b[0;34m\u001b[0m\u001b[0m\n\u001b[0;32m-> 1417\u001b[0;31m             \u001b[0msuper\u001b[0m\u001b[0;34m(\u001b[0m\u001b[0;34m)\u001b[0m\u001b[0;34m.\u001b[0m\u001b[0mconnect\u001b[0m\u001b[0;34m(\u001b[0m\u001b[0;34m)\u001b[0m\u001b[0;34m\u001b[0m\u001b[0;34m\u001b[0m\u001b[0m\n\u001b[0m\u001b[1;32m   1418\u001b[0m \u001b[0;34m\u001b[0m\u001b[0m\n",
      "\u001b[0;32m~/opt/anaconda3/lib/python3.8/http/client.py\u001b[0m in \u001b[0;36mconnect\u001b[0;34m(self)\u001b[0m\n\u001b[1;32m    920\u001b[0m         \u001b[0;34m\"\"\"Connect to the host and port specified in __init__.\"\"\"\u001b[0m\u001b[0;34m\u001b[0m\u001b[0;34m\u001b[0m\u001b[0m\n\u001b[0;32m--> 921\u001b[0;31m         self.sock = self._create_connection(\n\u001b[0m\u001b[1;32m    922\u001b[0m             (self.host,self.port), self.timeout, self.source_address)\n",
      "\u001b[0;32m~/opt/anaconda3/lib/python3.8/socket.py\u001b[0m in \u001b[0;36mcreate_connection\u001b[0;34m(address, timeout, source_address)\u001b[0m\n\u001b[1;32m    786\u001b[0m     \u001b[0merr\u001b[0m \u001b[0;34m=\u001b[0m \u001b[0;32mNone\u001b[0m\u001b[0;34m\u001b[0m\u001b[0;34m\u001b[0m\u001b[0m\n\u001b[0;32m--> 787\u001b[0;31m     \u001b[0;32mfor\u001b[0m \u001b[0mres\u001b[0m \u001b[0;32min\u001b[0m \u001b[0mgetaddrinfo\u001b[0m\u001b[0;34m(\u001b[0m\u001b[0mhost\u001b[0m\u001b[0;34m,\u001b[0m \u001b[0mport\u001b[0m\u001b[0;34m,\u001b[0m \u001b[0;36m0\u001b[0m\u001b[0;34m,\u001b[0m \u001b[0mSOCK_STREAM\u001b[0m\u001b[0;34m)\u001b[0m\u001b[0;34m:\u001b[0m\u001b[0;34m\u001b[0m\u001b[0;34m\u001b[0m\u001b[0m\n\u001b[0m\u001b[1;32m    788\u001b[0m         \u001b[0maf\u001b[0m\u001b[0;34m,\u001b[0m \u001b[0msocktype\u001b[0m\u001b[0;34m,\u001b[0m \u001b[0mproto\u001b[0m\u001b[0;34m,\u001b[0m \u001b[0mcanonname\u001b[0m\u001b[0;34m,\u001b[0m \u001b[0msa\u001b[0m \u001b[0;34m=\u001b[0m \u001b[0mres\u001b[0m\u001b[0;34m\u001b[0m\u001b[0;34m\u001b[0m\u001b[0m\n",
      "\u001b[0;32m~/opt/anaconda3/lib/python3.8/socket.py\u001b[0m in \u001b[0;36mgetaddrinfo\u001b[0;34m(host, port, family, type, proto, flags)\u001b[0m\n\u001b[1;32m    917\u001b[0m     \u001b[0maddrlist\u001b[0m \u001b[0;34m=\u001b[0m \u001b[0;34m[\u001b[0m\u001b[0;34m]\u001b[0m\u001b[0;34m\u001b[0m\u001b[0;34m\u001b[0m\u001b[0m\n\u001b[0;32m--> 918\u001b[0;31m     \u001b[0;32mfor\u001b[0m \u001b[0mres\u001b[0m \u001b[0;32min\u001b[0m \u001b[0m_socket\u001b[0m\u001b[0;34m.\u001b[0m\u001b[0mgetaddrinfo\u001b[0m\u001b[0;34m(\u001b[0m\u001b[0mhost\u001b[0m\u001b[0;34m,\u001b[0m \u001b[0mport\u001b[0m\u001b[0;34m,\u001b[0m \u001b[0mfamily\u001b[0m\u001b[0;34m,\u001b[0m \u001b[0mtype\u001b[0m\u001b[0;34m,\u001b[0m \u001b[0mproto\u001b[0m\u001b[0;34m,\u001b[0m \u001b[0mflags\u001b[0m\u001b[0;34m)\u001b[0m\u001b[0;34m:\u001b[0m\u001b[0;34m\u001b[0m\u001b[0;34m\u001b[0m\u001b[0m\n\u001b[0m\u001b[1;32m    919\u001b[0m         \u001b[0maf\u001b[0m\u001b[0;34m,\u001b[0m \u001b[0msocktype\u001b[0m\u001b[0;34m,\u001b[0m \u001b[0mproto\u001b[0m\u001b[0;34m,\u001b[0m \u001b[0mcanonname\u001b[0m\u001b[0;34m,\u001b[0m \u001b[0msa\u001b[0m \u001b[0;34m=\u001b[0m \u001b[0mres\u001b[0m\u001b[0;34m\u001b[0m\u001b[0;34m\u001b[0m\u001b[0m\n",
      "\u001b[0;31mgaierror\u001b[0m: [Errno 8] nodename nor servname provided, or not known",
      "\nDuring handling of the above exception, another exception occurred:\n",
      "\u001b[0;31mURLError\u001b[0m                                  Traceback (most recent call last)",
      "\u001b[0;32m<ipython-input-2-ee9dbd9f9726>\u001b[0m in \u001b[0;36m<module>\u001b[0;34m\u001b[0m\n\u001b[0;32m----> 1\u001b[0;31m \u001b[0;32mfrom\u001b[0m \u001b[0msrc\u001b[0m\u001b[0;34m.\u001b[0m\u001b[0mphac\u001b[0m \u001b[0;32mimport\u001b[0m \u001b[0mPHAC\u001b[0m\u001b[0;34m\u001b[0m\u001b[0;34m\u001b[0m\u001b[0m\n\u001b[0m\u001b[1;32m      2\u001b[0m \u001b[0;34m\u001b[0m\u001b[0m\n\u001b[1;32m      3\u001b[0m \u001b[0mcan\u001b[0m \u001b[0;34m=\u001b[0m \u001b[0mPHAC\u001b[0m\u001b[0;34m(\u001b[0m\u001b[0;34m)\u001b[0m\u001b[0;34m\u001b[0m\u001b[0;34m\u001b[0m\u001b[0m\n",
      "\u001b[0;32m~/OneDrive/IdeaProjects/covid-19/src/__init__.py\u001b[0m in \u001b[0;36m<module>\u001b[0;34m\u001b[0m\n\u001b[1;32m      1\u001b[0m \u001b[0;32mfrom\u001b[0m \u001b[0;34m.\u001b[0m\u001b[0mdataset\u001b[0m \u001b[0;32mimport\u001b[0m \u001b[0mCovidDataset\u001b[0m\u001b[0;34m\u001b[0m\u001b[0;34m\u001b[0m\u001b[0m\n\u001b[0;32m----> 2\u001b[0;31m \u001b[0;32mfrom\u001b[0m \u001b[0;34m.\u001b[0m\u001b[0mpopulationdata\u001b[0m \u001b[0;32mimport\u001b[0m \u001b[0mPopulationData\u001b[0m\u001b[0;34m,\u001b[0m \u001b[0mpopulation_table\u001b[0m\u001b[0;34m\u001b[0m\u001b[0;34m\u001b[0m\u001b[0m\n\u001b[0m\u001b[1;32m      3\u001b[0m \u001b[0;32mfrom\u001b[0m \u001b[0;34m.\u001b[0m\u001b[0mecdc\u001b[0m \u001b[0;32mimport\u001b[0m \u001b[0mECDC\u001b[0m\u001b[0;34m\u001b[0m\u001b[0;34m\u001b[0m\u001b[0m\n\u001b[1;32m      4\u001b[0m \u001b[0;32mfrom\u001b[0m \u001b[0;34m.\u001b[0m\u001b[0mphac\u001b[0m \u001b[0;32mimport\u001b[0m \u001b[0mPHAC\u001b[0m\u001b[0;34m\u001b[0m\u001b[0;34m\u001b[0m\u001b[0m\n",
      "\u001b[0;32m~/OneDrive/IdeaProjects/covid-19/src/populationdata.py\u001b[0m in \u001b[0;36m<module>\u001b[0;34m\u001b[0m\n\u001b[1;32m    138\u001b[0m \u001b[0;34m\u001b[0m\u001b[0m\n\u001b[1;32m    139\u001b[0m \u001b[0;31m# population_table = PopulationData.from_csv(\"../population_data.csv\")\u001b[0m\u001b[0;34m\u001b[0m\u001b[0;34m\u001b[0m\u001b[0;34m\u001b[0m\u001b[0m\n\u001b[0;32m--> 140\u001b[0;31m \u001b[0mpopulation_table\u001b[0m \u001b[0;34m=\u001b[0m \u001b[0mPopulationData\u001b[0m\u001b[0;34m(\u001b[0m\u001b[0;34m)\u001b[0m\u001b[0;34m\u001b[0m\u001b[0;34m\u001b[0m\u001b[0m\n\u001b[0m",
      "\u001b[0;32m~/OneDrive/IdeaProjects/covid-19/src/populationdata.py\u001b[0m in \u001b[0;36m__init__\u001b[0;34m(self, **args)\u001b[0m\n\u001b[1;32m     15\u001b[0m         \u001b[0;32melse\u001b[0m\u001b[0;34m:\u001b[0m\u001b[0;34m\u001b[0m\u001b[0;34m\u001b[0m\u001b[0m\n\u001b[1;32m     16\u001b[0m             \u001b[0mself\u001b[0m\u001b[0;34m.\u001b[0m\u001b[0mdf\u001b[0m \u001b[0;34m=\u001b[0m \u001b[0mpd\u001b[0m\u001b[0;34m.\u001b[0m\u001b[0mDataFrame\u001b[0m\u001b[0;34m(\u001b[0m\u001b[0mcolumns\u001b[0m\u001b[0;34m=\u001b[0m\u001b[0;34m[\u001b[0m\u001b[0;34m'year'\u001b[0m\u001b[0;34m,\u001b[0m \u001b[0;34m'location'\u001b[0m\u001b[0;34m,\u001b[0m \u001b[0;34m'population'\u001b[0m\u001b[0;34m,\u001b[0m \u001b[0;34m'population_density'\u001b[0m\u001b[0;34m]\u001b[0m\u001b[0;34m)\u001b[0m\u001b[0;34m\u001b[0m\u001b[0;34m\u001b[0m\u001b[0m\n\u001b[0;32m---> 17\u001b[0;31m             \u001b[0mself\u001b[0m\u001b[0;34m.\u001b[0m\u001b[0mupdate\u001b[0m\u001b[0;34m(\u001b[0m\u001b[0mself\u001b[0m\u001b[0;34m.\u001b[0m\u001b[0m_get_world\u001b[0m\u001b[0;34m(\u001b[0m\u001b[0;34m)\u001b[0m\u001b[0;34m)\u001b[0m\u001b[0;34m\u001b[0m\u001b[0;34m\u001b[0m\u001b[0m\n\u001b[0m\u001b[1;32m     18\u001b[0m             \u001b[0mself\u001b[0m\u001b[0;34m.\u001b[0m\u001b[0mupdate\u001b[0m\u001b[0;34m(\u001b[0m\u001b[0mself\u001b[0m\u001b[0;34m.\u001b[0m\u001b[0m_get_canada\u001b[0m\u001b[0;34m(\u001b[0m\u001b[0;34m)\u001b[0m\u001b[0;34m)\u001b[0m\u001b[0;34m\u001b[0m\u001b[0;34m\u001b[0m\u001b[0m\n\u001b[1;32m     19\u001b[0m             \u001b[0mself\u001b[0m\u001b[0;34m.\u001b[0m\u001b[0mupdate\u001b[0m\u001b[0;34m(\u001b[0m\u001b[0mself\u001b[0m\u001b[0;34m.\u001b[0m\u001b[0m_get_us\u001b[0m\u001b[0;34m(\u001b[0m\u001b[0;34m)\u001b[0m\u001b[0;34m)\u001b[0m\u001b[0;34m\u001b[0m\u001b[0;34m\u001b[0m\u001b[0m\n",
      "\u001b[0;32m~/OneDrive/IdeaProjects/covid-19/src/populationdata.py\u001b[0m in \u001b[0;36m_get_world\u001b[0;34m(self)\u001b[0m\n\u001b[1;32m     38\u001b[0m             \u001b[0;34m\"Time\"\u001b[0m\u001b[0;34m:\u001b[0m \u001b[0;34m\"year\"\u001b[0m\u001b[0;34m\u001b[0m\u001b[0;34m\u001b[0m\u001b[0m\n\u001b[1;32m     39\u001b[0m         }\n\u001b[0;32m---> 40\u001b[0;31m         \u001b[0mdf\u001b[0m \u001b[0;34m=\u001b[0m \u001b[0mpd\u001b[0m\u001b[0;34m.\u001b[0m\u001b[0mread_csv\u001b[0m\u001b[0;34m(\u001b[0m\u001b[0murl\u001b[0m\u001b[0;34m)\u001b[0m\u001b[0;34m\u001b[0m\u001b[0;34m\u001b[0m\u001b[0m\n\u001b[0m\u001b[1;32m     41\u001b[0m         \u001b[0mdf\u001b[0m\u001b[0;34m.\u001b[0m\u001b[0mrename\u001b[0m\u001b[0;34m(\u001b[0m\u001b[0mcolumns\u001b[0m\u001b[0;34m=\u001b[0m\u001b[0mcol_map\u001b[0m\u001b[0;34m,\u001b[0m \u001b[0minplace\u001b[0m\u001b[0;34m=\u001b[0m\u001b[0;32mTrue\u001b[0m\u001b[0;34m)\u001b[0m\u001b[0;34m\u001b[0m\u001b[0;34m\u001b[0m\u001b[0m\n\u001b[1;32m     42\u001b[0m         \u001b[0mdf\u001b[0m\u001b[0;34m[\u001b[0m\u001b[0;34m'population'\u001b[0m\u001b[0;34m]\u001b[0m \u001b[0;34m=\u001b[0m \u001b[0;36m1000\u001b[0m \u001b[0;34m*\u001b[0m \u001b[0mdf\u001b[0m\u001b[0;34m[\u001b[0m\u001b[0;34m'population'\u001b[0m\u001b[0;34m]\u001b[0m\u001b[0;34m\u001b[0m\u001b[0;34m\u001b[0m\u001b[0m\n",
      "\u001b[0;32m~/opt/anaconda3/lib/python3.8/site-packages/pandas/io/parsers.py\u001b[0m in \u001b[0;36mread_csv\u001b[0;34m(filepath_or_buffer, sep, delimiter, header, names, index_col, usecols, squeeze, prefix, mangle_dupe_cols, dtype, engine, converters, true_values, false_values, skipinitialspace, skiprows, skipfooter, nrows, na_values, keep_default_na, na_filter, verbose, skip_blank_lines, parse_dates, infer_datetime_format, keep_date_col, date_parser, dayfirst, cache_dates, iterator, chunksize, compression, thousands, decimal, lineterminator, quotechar, quoting, doublequote, escapechar, comment, encoding, dialect, error_bad_lines, warn_bad_lines, delim_whitespace, low_memory, memory_map, float_precision, storage_options)\u001b[0m\n\u001b[1;32m    608\u001b[0m     \u001b[0mkwds\u001b[0m\u001b[0;34m.\u001b[0m\u001b[0mupdate\u001b[0m\u001b[0;34m(\u001b[0m\u001b[0mkwds_defaults\u001b[0m\u001b[0;34m)\u001b[0m\u001b[0;34m\u001b[0m\u001b[0;34m\u001b[0m\u001b[0m\n\u001b[1;32m    609\u001b[0m \u001b[0;34m\u001b[0m\u001b[0m\n\u001b[0;32m--> 610\u001b[0;31m     \u001b[0;32mreturn\u001b[0m \u001b[0m_read\u001b[0m\u001b[0;34m(\u001b[0m\u001b[0mfilepath_or_buffer\u001b[0m\u001b[0;34m,\u001b[0m \u001b[0mkwds\u001b[0m\u001b[0;34m)\u001b[0m\u001b[0;34m\u001b[0m\u001b[0;34m\u001b[0m\u001b[0m\n\u001b[0m\u001b[1;32m    611\u001b[0m \u001b[0;34m\u001b[0m\u001b[0m\n\u001b[1;32m    612\u001b[0m \u001b[0;34m\u001b[0m\u001b[0m\n",
      "\u001b[0;32m~/opt/anaconda3/lib/python3.8/site-packages/pandas/io/parsers.py\u001b[0m in \u001b[0;36m_read\u001b[0;34m(filepath_or_buffer, kwds)\u001b[0m\n\u001b[1;32m    460\u001b[0m \u001b[0;34m\u001b[0m\u001b[0m\n\u001b[1;32m    461\u001b[0m     \u001b[0;31m# Create the parser.\u001b[0m\u001b[0;34m\u001b[0m\u001b[0;34m\u001b[0m\u001b[0;34m\u001b[0m\u001b[0m\n\u001b[0;32m--> 462\u001b[0;31m     \u001b[0mparser\u001b[0m \u001b[0;34m=\u001b[0m \u001b[0mTextFileReader\u001b[0m\u001b[0;34m(\u001b[0m\u001b[0mfilepath_or_buffer\u001b[0m\u001b[0;34m,\u001b[0m \u001b[0;34m**\u001b[0m\u001b[0mkwds\u001b[0m\u001b[0;34m)\u001b[0m\u001b[0;34m\u001b[0m\u001b[0;34m\u001b[0m\u001b[0m\n\u001b[0m\u001b[1;32m    463\u001b[0m \u001b[0;34m\u001b[0m\u001b[0m\n\u001b[1;32m    464\u001b[0m     \u001b[0;32mif\u001b[0m \u001b[0mchunksize\u001b[0m \u001b[0;32mor\u001b[0m \u001b[0miterator\u001b[0m\u001b[0;34m:\u001b[0m\u001b[0;34m\u001b[0m\u001b[0;34m\u001b[0m\u001b[0m\n",
      "\u001b[0;32m~/opt/anaconda3/lib/python3.8/site-packages/pandas/io/parsers.py\u001b[0m in \u001b[0;36m__init__\u001b[0;34m(self, f, engine, **kwds)\u001b[0m\n\u001b[1;32m    817\u001b[0m             \u001b[0mself\u001b[0m\u001b[0;34m.\u001b[0m\u001b[0moptions\u001b[0m\u001b[0;34m[\u001b[0m\u001b[0;34m\"has_index_names\"\u001b[0m\u001b[0;34m]\u001b[0m \u001b[0;34m=\u001b[0m \u001b[0mkwds\u001b[0m\u001b[0;34m[\u001b[0m\u001b[0;34m\"has_index_names\"\u001b[0m\u001b[0;34m]\u001b[0m\u001b[0;34m\u001b[0m\u001b[0;34m\u001b[0m\u001b[0m\n\u001b[1;32m    818\u001b[0m \u001b[0;34m\u001b[0m\u001b[0m\n\u001b[0;32m--> 819\u001b[0;31m         \u001b[0mself\u001b[0m\u001b[0;34m.\u001b[0m\u001b[0m_engine\u001b[0m \u001b[0;34m=\u001b[0m \u001b[0mself\u001b[0m\u001b[0;34m.\u001b[0m\u001b[0m_make_engine\u001b[0m\u001b[0;34m(\u001b[0m\u001b[0mself\u001b[0m\u001b[0;34m.\u001b[0m\u001b[0mengine\u001b[0m\u001b[0;34m)\u001b[0m\u001b[0;34m\u001b[0m\u001b[0;34m\u001b[0m\u001b[0m\n\u001b[0m\u001b[1;32m    820\u001b[0m \u001b[0;34m\u001b[0m\u001b[0m\n\u001b[1;32m    821\u001b[0m     \u001b[0;32mdef\u001b[0m \u001b[0mclose\u001b[0m\u001b[0;34m(\u001b[0m\u001b[0mself\u001b[0m\u001b[0;34m)\u001b[0m\u001b[0;34m:\u001b[0m\u001b[0;34m\u001b[0m\u001b[0;34m\u001b[0m\u001b[0m\n",
      "\u001b[0;32m~/opt/anaconda3/lib/python3.8/site-packages/pandas/io/parsers.py\u001b[0m in \u001b[0;36m_make_engine\u001b[0;34m(self, engine)\u001b[0m\n\u001b[1;32m   1048\u001b[0m             )\n\u001b[1;32m   1049\u001b[0m         \u001b[0;31m# error: Too many arguments for \"ParserBase\"\u001b[0m\u001b[0;34m\u001b[0m\u001b[0;34m\u001b[0m\u001b[0;34m\u001b[0m\u001b[0m\n\u001b[0;32m-> 1050\u001b[0;31m         \u001b[0;32mreturn\u001b[0m \u001b[0mmapping\u001b[0m\u001b[0;34m[\u001b[0m\u001b[0mengine\u001b[0m\u001b[0;34m]\u001b[0m\u001b[0;34m(\u001b[0m\u001b[0mself\u001b[0m\u001b[0;34m.\u001b[0m\u001b[0mf\u001b[0m\u001b[0;34m,\u001b[0m \u001b[0;34m**\u001b[0m\u001b[0mself\u001b[0m\u001b[0;34m.\u001b[0m\u001b[0moptions\u001b[0m\u001b[0;34m)\u001b[0m  \u001b[0;31m# type: ignore[call-arg]\u001b[0m\u001b[0;34m\u001b[0m\u001b[0;34m\u001b[0m\u001b[0m\n\u001b[0m\u001b[1;32m   1051\u001b[0m \u001b[0;34m\u001b[0m\u001b[0m\n\u001b[1;32m   1052\u001b[0m     \u001b[0;32mdef\u001b[0m \u001b[0m_failover_to_python\u001b[0m\u001b[0;34m(\u001b[0m\u001b[0mself\u001b[0m\u001b[0;34m)\u001b[0m\u001b[0;34m:\u001b[0m\u001b[0;34m\u001b[0m\u001b[0;34m\u001b[0m\u001b[0m\n",
      "\u001b[0;32m~/opt/anaconda3/lib/python3.8/site-packages/pandas/io/parsers.py\u001b[0m in \u001b[0;36m__init__\u001b[0;34m(self, src, **kwds)\u001b[0m\n\u001b[1;32m   1865\u001b[0m \u001b[0;34m\u001b[0m\u001b[0m\n\u001b[1;32m   1866\u001b[0m         \u001b[0;31m# open handles\u001b[0m\u001b[0;34m\u001b[0m\u001b[0;34m\u001b[0m\u001b[0;34m\u001b[0m\u001b[0m\n\u001b[0;32m-> 1867\u001b[0;31m         \u001b[0mself\u001b[0m\u001b[0;34m.\u001b[0m\u001b[0m_open_handles\u001b[0m\u001b[0;34m(\u001b[0m\u001b[0msrc\u001b[0m\u001b[0;34m,\u001b[0m \u001b[0mkwds\u001b[0m\u001b[0;34m)\u001b[0m\u001b[0;34m\u001b[0m\u001b[0;34m\u001b[0m\u001b[0m\n\u001b[0m\u001b[1;32m   1868\u001b[0m         \u001b[0;32massert\u001b[0m \u001b[0mself\u001b[0m\u001b[0;34m.\u001b[0m\u001b[0mhandles\u001b[0m \u001b[0;32mis\u001b[0m \u001b[0;32mnot\u001b[0m \u001b[0;32mNone\u001b[0m\u001b[0;34m\u001b[0m\u001b[0;34m\u001b[0m\u001b[0m\n\u001b[1;32m   1869\u001b[0m         \u001b[0;32mfor\u001b[0m \u001b[0mkey\u001b[0m \u001b[0;32min\u001b[0m \u001b[0;34m(\u001b[0m\u001b[0;34m\"storage_options\"\u001b[0m\u001b[0;34m,\u001b[0m \u001b[0;34m\"encoding\"\u001b[0m\u001b[0;34m,\u001b[0m \u001b[0;34m\"memory_map\"\u001b[0m\u001b[0;34m,\u001b[0m \u001b[0;34m\"compression\"\u001b[0m\u001b[0;34m)\u001b[0m\u001b[0;34m:\u001b[0m\u001b[0;34m\u001b[0m\u001b[0;34m\u001b[0m\u001b[0m\n",
      "\u001b[0;32m~/opt/anaconda3/lib/python3.8/site-packages/pandas/io/parsers.py\u001b[0m in \u001b[0;36m_open_handles\u001b[0;34m(self, src, kwds)\u001b[0m\n\u001b[1;32m   1360\u001b[0m         \u001b[0mLet\u001b[0m \u001b[0mthe\u001b[0m \u001b[0mreaders\u001b[0m \u001b[0mopen\u001b[0m \u001b[0mIOHanldes\u001b[0m \u001b[0mafter\u001b[0m \u001b[0mthey\u001b[0m \u001b[0mare\u001b[0m \u001b[0mdone\u001b[0m \u001b[0;32mwith\u001b[0m \u001b[0mtheir\u001b[0m \u001b[0mpotential\u001b[0m \u001b[0mraises\u001b[0m\u001b[0;34m.\u001b[0m\u001b[0;34m\u001b[0m\u001b[0;34m\u001b[0m\u001b[0m\n\u001b[1;32m   1361\u001b[0m         \"\"\"\n\u001b[0;32m-> 1362\u001b[0;31m         self.handles = get_handle(\n\u001b[0m\u001b[1;32m   1363\u001b[0m             \u001b[0msrc\u001b[0m\u001b[0;34m,\u001b[0m\u001b[0;34m\u001b[0m\u001b[0;34m\u001b[0m\u001b[0m\n\u001b[1;32m   1364\u001b[0m             \u001b[0;34m\"r\"\u001b[0m\u001b[0;34m,\u001b[0m\u001b[0;34m\u001b[0m\u001b[0;34m\u001b[0m\u001b[0m\n",
      "\u001b[0;32m~/opt/anaconda3/lib/python3.8/site-packages/pandas/io/common.py\u001b[0m in \u001b[0;36mget_handle\u001b[0;34m(path_or_buf, mode, encoding, compression, memory_map, is_text, errors, storage_options)\u001b[0m\n\u001b[1;32m    556\u001b[0m \u001b[0;34m\u001b[0m\u001b[0m\n\u001b[1;32m    557\u001b[0m     \u001b[0;31m# open URLs\u001b[0m\u001b[0;34m\u001b[0m\u001b[0;34m\u001b[0m\u001b[0;34m\u001b[0m\u001b[0m\n\u001b[0;32m--> 558\u001b[0;31m     ioargs = _get_filepath_or_buffer(\n\u001b[0m\u001b[1;32m    559\u001b[0m         \u001b[0mpath_or_buf\u001b[0m\u001b[0;34m,\u001b[0m\u001b[0;34m\u001b[0m\u001b[0;34m\u001b[0m\u001b[0m\n\u001b[1;32m    560\u001b[0m         \u001b[0mencoding\u001b[0m\u001b[0;34m=\u001b[0m\u001b[0mencoding\u001b[0m\u001b[0;34m,\u001b[0m\u001b[0;34m\u001b[0m\u001b[0;34m\u001b[0m\u001b[0m\n",
      "\u001b[0;32m~/opt/anaconda3/lib/python3.8/site-packages/pandas/io/common.py\u001b[0m in \u001b[0;36m_get_filepath_or_buffer\u001b[0;34m(filepath_or_buffer, encoding, compression, mode, storage_options)\u001b[0m\n\u001b[1;32m    287\u001b[0m                 \u001b[0;34m\"storage_options passed with file object or non-fsspec file path\"\u001b[0m\u001b[0;34m\u001b[0m\u001b[0;34m\u001b[0m\u001b[0m\n\u001b[1;32m    288\u001b[0m             )\n\u001b[0;32m--> 289\u001b[0;31m         \u001b[0mreq\u001b[0m \u001b[0;34m=\u001b[0m \u001b[0murlopen\u001b[0m\u001b[0;34m(\u001b[0m\u001b[0mfilepath_or_buffer\u001b[0m\u001b[0;34m)\u001b[0m\u001b[0;34m\u001b[0m\u001b[0;34m\u001b[0m\u001b[0m\n\u001b[0m\u001b[1;32m    290\u001b[0m         \u001b[0mcontent_encoding\u001b[0m \u001b[0;34m=\u001b[0m \u001b[0mreq\u001b[0m\u001b[0;34m.\u001b[0m\u001b[0mheaders\u001b[0m\u001b[0;34m.\u001b[0m\u001b[0mget\u001b[0m\u001b[0;34m(\u001b[0m\u001b[0;34m\"Content-Encoding\"\u001b[0m\u001b[0;34m,\u001b[0m \u001b[0;32mNone\u001b[0m\u001b[0;34m)\u001b[0m\u001b[0;34m\u001b[0m\u001b[0;34m\u001b[0m\u001b[0m\n\u001b[1;32m    291\u001b[0m         \u001b[0;32mif\u001b[0m \u001b[0mcontent_encoding\u001b[0m \u001b[0;34m==\u001b[0m \u001b[0;34m\"gzip\"\u001b[0m\u001b[0;34m:\u001b[0m\u001b[0;34m\u001b[0m\u001b[0;34m\u001b[0m\u001b[0m\n",
      "\u001b[0;32m~/opt/anaconda3/lib/python3.8/site-packages/pandas/io/common.py\u001b[0m in \u001b[0;36murlopen\u001b[0;34m(*args, **kwargs)\u001b[0m\n\u001b[1;32m    193\u001b[0m     \u001b[0;32mimport\u001b[0m \u001b[0murllib\u001b[0m\u001b[0;34m.\u001b[0m\u001b[0mrequest\u001b[0m\u001b[0;34m\u001b[0m\u001b[0;34m\u001b[0m\u001b[0m\n\u001b[1;32m    194\u001b[0m \u001b[0;34m\u001b[0m\u001b[0m\n\u001b[0;32m--> 195\u001b[0;31m     \u001b[0;32mreturn\u001b[0m \u001b[0murllib\u001b[0m\u001b[0;34m.\u001b[0m\u001b[0mrequest\u001b[0m\u001b[0;34m.\u001b[0m\u001b[0murlopen\u001b[0m\u001b[0;34m(\u001b[0m\u001b[0;34m*\u001b[0m\u001b[0margs\u001b[0m\u001b[0;34m,\u001b[0m \u001b[0;34m**\u001b[0m\u001b[0mkwargs\u001b[0m\u001b[0;34m)\u001b[0m\u001b[0;34m\u001b[0m\u001b[0;34m\u001b[0m\u001b[0m\n\u001b[0m\u001b[1;32m    196\u001b[0m \u001b[0;34m\u001b[0m\u001b[0m\n\u001b[1;32m    197\u001b[0m \u001b[0;34m\u001b[0m\u001b[0m\n",
      "\u001b[0;32m~/opt/anaconda3/lib/python3.8/urllib/request.py\u001b[0m in \u001b[0;36murlopen\u001b[0;34m(url, data, timeout, cafile, capath, cadefault, context)\u001b[0m\n\u001b[1;32m    220\u001b[0m     \u001b[0;32melse\u001b[0m\u001b[0;34m:\u001b[0m\u001b[0;34m\u001b[0m\u001b[0;34m\u001b[0m\u001b[0m\n\u001b[1;32m    221\u001b[0m         \u001b[0mopener\u001b[0m \u001b[0;34m=\u001b[0m \u001b[0m_opener\u001b[0m\u001b[0;34m\u001b[0m\u001b[0;34m\u001b[0m\u001b[0m\n\u001b[0;32m--> 222\u001b[0;31m     \u001b[0;32mreturn\u001b[0m \u001b[0mopener\u001b[0m\u001b[0;34m.\u001b[0m\u001b[0mopen\u001b[0m\u001b[0;34m(\u001b[0m\u001b[0murl\u001b[0m\u001b[0;34m,\u001b[0m \u001b[0mdata\u001b[0m\u001b[0;34m,\u001b[0m \u001b[0mtimeout\u001b[0m\u001b[0;34m)\u001b[0m\u001b[0;34m\u001b[0m\u001b[0;34m\u001b[0m\u001b[0m\n\u001b[0m\u001b[1;32m    223\u001b[0m \u001b[0;34m\u001b[0m\u001b[0m\n\u001b[1;32m    224\u001b[0m \u001b[0;32mdef\u001b[0m \u001b[0minstall_opener\u001b[0m\u001b[0;34m(\u001b[0m\u001b[0mopener\u001b[0m\u001b[0;34m)\u001b[0m\u001b[0;34m:\u001b[0m\u001b[0;34m\u001b[0m\u001b[0;34m\u001b[0m\u001b[0m\n",
      "\u001b[0;32m~/opt/anaconda3/lib/python3.8/urllib/request.py\u001b[0m in \u001b[0;36mopen\u001b[0;34m(self, fullurl, data, timeout)\u001b[0m\n\u001b[1;32m    523\u001b[0m \u001b[0;34m\u001b[0m\u001b[0m\n\u001b[1;32m    524\u001b[0m         \u001b[0msys\u001b[0m\u001b[0;34m.\u001b[0m\u001b[0maudit\u001b[0m\u001b[0;34m(\u001b[0m\u001b[0;34m'urllib.Request'\u001b[0m\u001b[0;34m,\u001b[0m \u001b[0mreq\u001b[0m\u001b[0;34m.\u001b[0m\u001b[0mfull_url\u001b[0m\u001b[0;34m,\u001b[0m \u001b[0mreq\u001b[0m\u001b[0;34m.\u001b[0m\u001b[0mdata\u001b[0m\u001b[0;34m,\u001b[0m \u001b[0mreq\u001b[0m\u001b[0;34m.\u001b[0m\u001b[0mheaders\u001b[0m\u001b[0;34m,\u001b[0m \u001b[0mreq\u001b[0m\u001b[0;34m.\u001b[0m\u001b[0mget_method\u001b[0m\u001b[0;34m(\u001b[0m\u001b[0;34m)\u001b[0m\u001b[0;34m)\u001b[0m\u001b[0;34m\u001b[0m\u001b[0;34m\u001b[0m\u001b[0m\n\u001b[0;32m--> 525\u001b[0;31m         \u001b[0mresponse\u001b[0m \u001b[0;34m=\u001b[0m \u001b[0mself\u001b[0m\u001b[0;34m.\u001b[0m\u001b[0m_open\u001b[0m\u001b[0;34m(\u001b[0m\u001b[0mreq\u001b[0m\u001b[0;34m,\u001b[0m \u001b[0mdata\u001b[0m\u001b[0;34m)\u001b[0m\u001b[0;34m\u001b[0m\u001b[0;34m\u001b[0m\u001b[0m\n\u001b[0m\u001b[1;32m    526\u001b[0m \u001b[0;34m\u001b[0m\u001b[0m\n\u001b[1;32m    527\u001b[0m         \u001b[0;31m# post-process response\u001b[0m\u001b[0;34m\u001b[0m\u001b[0;34m\u001b[0m\u001b[0;34m\u001b[0m\u001b[0m\n",
      "\u001b[0;32m~/opt/anaconda3/lib/python3.8/urllib/request.py\u001b[0m in \u001b[0;36m_open\u001b[0;34m(self, req, data)\u001b[0m\n\u001b[1;32m    540\u001b[0m \u001b[0;34m\u001b[0m\u001b[0m\n\u001b[1;32m    541\u001b[0m         \u001b[0mprotocol\u001b[0m \u001b[0;34m=\u001b[0m \u001b[0mreq\u001b[0m\u001b[0;34m.\u001b[0m\u001b[0mtype\u001b[0m\u001b[0;34m\u001b[0m\u001b[0;34m\u001b[0m\u001b[0m\n\u001b[0;32m--> 542\u001b[0;31m         result = self._call_chain(self.handle_open, protocol, protocol +\n\u001b[0m\u001b[1;32m    543\u001b[0m                                   '_open', req)\n\u001b[1;32m    544\u001b[0m         \u001b[0;32mif\u001b[0m \u001b[0mresult\u001b[0m\u001b[0;34m:\u001b[0m\u001b[0;34m\u001b[0m\u001b[0;34m\u001b[0m\u001b[0m\n",
      "\u001b[0;32m~/opt/anaconda3/lib/python3.8/urllib/request.py\u001b[0m in \u001b[0;36m_call_chain\u001b[0;34m(self, chain, kind, meth_name, *args)\u001b[0m\n\u001b[1;32m    500\u001b[0m         \u001b[0;32mfor\u001b[0m \u001b[0mhandler\u001b[0m \u001b[0;32min\u001b[0m \u001b[0mhandlers\u001b[0m\u001b[0;34m:\u001b[0m\u001b[0;34m\u001b[0m\u001b[0;34m\u001b[0m\u001b[0m\n\u001b[1;32m    501\u001b[0m             \u001b[0mfunc\u001b[0m \u001b[0;34m=\u001b[0m \u001b[0mgetattr\u001b[0m\u001b[0;34m(\u001b[0m\u001b[0mhandler\u001b[0m\u001b[0;34m,\u001b[0m \u001b[0mmeth_name\u001b[0m\u001b[0;34m)\u001b[0m\u001b[0;34m\u001b[0m\u001b[0;34m\u001b[0m\u001b[0m\n\u001b[0;32m--> 502\u001b[0;31m             \u001b[0mresult\u001b[0m \u001b[0;34m=\u001b[0m \u001b[0mfunc\u001b[0m\u001b[0;34m(\u001b[0m\u001b[0;34m*\u001b[0m\u001b[0margs\u001b[0m\u001b[0;34m)\u001b[0m\u001b[0;34m\u001b[0m\u001b[0;34m\u001b[0m\u001b[0m\n\u001b[0m\u001b[1;32m    503\u001b[0m             \u001b[0;32mif\u001b[0m \u001b[0mresult\u001b[0m \u001b[0;32mis\u001b[0m \u001b[0;32mnot\u001b[0m \u001b[0;32mNone\u001b[0m\u001b[0;34m:\u001b[0m\u001b[0;34m\u001b[0m\u001b[0;34m\u001b[0m\u001b[0m\n\u001b[1;32m    504\u001b[0m                 \u001b[0;32mreturn\u001b[0m \u001b[0mresult\u001b[0m\u001b[0;34m\u001b[0m\u001b[0;34m\u001b[0m\u001b[0m\n",
      "\u001b[0;32m~/opt/anaconda3/lib/python3.8/urllib/request.py\u001b[0m in \u001b[0;36mhttps_open\u001b[0;34m(self, req)\u001b[0m\n\u001b[1;32m   1395\u001b[0m \u001b[0;34m\u001b[0m\u001b[0m\n\u001b[1;32m   1396\u001b[0m         \u001b[0;32mdef\u001b[0m \u001b[0mhttps_open\u001b[0m\u001b[0;34m(\u001b[0m\u001b[0mself\u001b[0m\u001b[0;34m,\u001b[0m \u001b[0mreq\u001b[0m\u001b[0;34m)\u001b[0m\u001b[0;34m:\u001b[0m\u001b[0;34m\u001b[0m\u001b[0;34m\u001b[0m\u001b[0m\n\u001b[0;32m-> 1397\u001b[0;31m             return self.do_open(http.client.HTTPSConnection, req,\n\u001b[0m\u001b[1;32m   1398\u001b[0m                 context=self._context, check_hostname=self._check_hostname)\n\u001b[1;32m   1399\u001b[0m \u001b[0;34m\u001b[0m\u001b[0m\n",
      "\u001b[0;32m~/opt/anaconda3/lib/python3.8/urllib/request.py\u001b[0m in \u001b[0;36mdo_open\u001b[0;34m(self, http_class, req, **http_conn_args)\u001b[0m\n\u001b[1;32m   1355\u001b[0m                           encode_chunked=req.has_header('Transfer-encoding'))\n\u001b[1;32m   1356\u001b[0m             \u001b[0;32mexcept\u001b[0m \u001b[0mOSError\u001b[0m \u001b[0;32mas\u001b[0m \u001b[0merr\u001b[0m\u001b[0;34m:\u001b[0m \u001b[0;31m# timeout error\u001b[0m\u001b[0;34m\u001b[0m\u001b[0;34m\u001b[0m\u001b[0m\n\u001b[0;32m-> 1357\u001b[0;31m                 \u001b[0;32mraise\u001b[0m \u001b[0mURLError\u001b[0m\u001b[0;34m(\u001b[0m\u001b[0merr\u001b[0m\u001b[0;34m)\u001b[0m\u001b[0;34m\u001b[0m\u001b[0;34m\u001b[0m\u001b[0m\n\u001b[0m\u001b[1;32m   1358\u001b[0m             \u001b[0mr\u001b[0m \u001b[0;34m=\u001b[0m \u001b[0mh\u001b[0m\u001b[0;34m.\u001b[0m\u001b[0mgetresponse\u001b[0m\u001b[0;34m(\u001b[0m\u001b[0;34m)\u001b[0m\u001b[0;34m\u001b[0m\u001b[0;34m\u001b[0m\u001b[0m\n\u001b[1;32m   1359\u001b[0m         \u001b[0;32mexcept\u001b[0m\u001b[0;34m:\u001b[0m\u001b[0;34m\u001b[0m\u001b[0;34m\u001b[0m\u001b[0m\n",
      "\u001b[0;31mURLError\u001b[0m: <urlopen error [Errno 8] nodename nor servname provided, or not known>"
     ]
    }
   ],
   "source": [
    "from src.phac import PHAC\n",
    "\n",
    "can = PHAC()"
   ]
  },
  {
   "cell_type": "code",
   "execution_count": null,
   "metadata": {},
   "outputs": [],
   "source": [
    "def doubling_time(r):\n",
    "    if r > 0:\n",
    "        return f\"doubling in {np.log(2) / np.log1p(r): .1f}\"\n",
    "    elif r == 0:\n",
    "        return \"stationary\"\n",
    "    else:\n",
    "        return f\"half life {-np.log(2) / np.log1p(r): .1f}\"\n",
    "    \n",
    "def rate_to_dbl_in(nper):\n",
    "    if nper == np.inf:\n",
    "        return 0\n",
    "    else:\n",
    "        return np.expm1(np.log(2) / nper)\n",
    "    \n",
    "def zeros(ser):\n",
    "    \"\"\"\n",
    "    Return the list of indices where a series intercepts the x-axis\n",
    "    \n",
    "    :param ser: pandas.Series\n",
    "    \"\"\"\n",
    "    state = np.sign(ser[0])\n",
    "    zeros = []\n",
    "    for idx, val in ser.items():\n",
    "        if np.sign(val) != state:\n",
    "            if np.isnan(state):\n",
    "                state = np.sign(val)\n",
    "            else:\n",
    "                zeros.append(idx)\n",
    "                state = np.sign(val)\n",
    "    return zeros"
   ]
  },
  {
   "cell_type": "markdown",
   "metadata": {},
   "source": [
    "# Notes on Modeling COVID\n",
    "\n",
    "## Introduction\n",
    "\n",
    "The data sets available to us give us, for each location, a multi-dimensional timeseries.  Each time observation can be assumed to include the following features:\n",
    "\n",
    "* $\\tau_{t}$ - the number of individuals tested as a proportion of the population\n",
    "* $\\pi_{t}$ - the positivity rate.  Note $\\pi \\sim \\frac{\\nu}{\\tau}$.  Depending on the reporting protocols, new cases reported at time $t$ may not be the result of tests reported at $t$.\n",
    "* $\\nu_{t}$ - the number of new cases as a proportion of the population\n",
    "* $\\delta_{t}$ - the number of deaths as a proportion of the population\n",
    "\n",
    "We may also have\n",
    "\n",
    "* $\\rho_{t}$ the number of resolved cases as a proportion of the population\n",
    "* $\\eta_{t}$ the number of hospitalizations as a proportion of the population\n",
    "\n",
    "Derived variables include:\n",
    "\n",
    "* $T_{t} = \\sum^{t}_{k=0}{\\nu_{k}}$ - total cases as a proportion of the population\n",
    "\n",
    "Note, the new cases reported at a give time, $t$, may not be the results of testing at $t$\n",
    "\n",
    "## Processes driving disease spread\n",
    "\n",
    "Viral spread is the result of the following processes:\n",
    "\n",
    "* Transmission (or contagion) - this is a function of the virus\n",
    "* Population immunity - this is a function of disease prgress and the state of vaccinations\n",
    "* Exposure (or contact) - this is a function if population behaviour\n",
    "* Resolution - this is a property of the virus and the treatment regime\n",
    "\n",
    "### Exposure Model\n",
    "\n",
    "We model exposure or contact by a random variable $E$ over $R_{\\ge 0}$ where $P(E=x)$ is interpreted as the probability that a member of the population is exposed to viral load $x$.  The exponential distribution is a natural model for exposure. \n",
    "\n",
    "The exposure model varies with time and location and is affected by population behaviour.\n",
    "\n",
    "Public health interventions aim to change population behaviour.\n",
    "\n",
    "* Hand washing reduces exposure from fomites.\n",
    "* Social distancing (maintaining distance from others) reduces exposure from droplets.\n",
    "* Mask wearing reduces the amount of virus in the environment and reduces exposure from droplets in the air.  Note mask wearing may also increase exposure to fomites.\n",
    "* Social isolation (reducing the number and duration of contacts) reduces exposure to the virus in all forms.  \n",
    "* Testing, contact tracing, and quarantine aim to isolate eliminate reduce the viral load in social environments.\n",
    "* Facility controls (e.g, ventilation) reduce viral load in environment\n",
    "\n",
    "If we choose the exponential distribution, then the p.d.f is $P(E=x) = \\lambda e^{-\\lambda x)}$ and the c.d.f is $P(E \\le x) = (1 - e^{-\\lambda x})$\n",
    "\n",
    "So exposure model is parameterized by a series $\\{\\lambda^E_t\\}$ for each location.\n",
    "\n",
    "### Transmission (Contagion Model)\n",
    "\n",
    "We model transmission as a mixture of exponential distributions.  Only the latent mixture variable changes with time.  We have a set of strains $S$ and a family $\\{C_s | s \\in S\\}$ of exponential distributions.  Each $C_s$ represents the probability that a susceptible member of the population is infected when exposed to a viral load $x$. (Note, we may want to consider using a logistic distribution if infection has a hard threshold).  At any point in time we have a distribution $P_t(S=s) = p_t(s)$.\n",
    "\n",
    "So the transmission model is parameterized by $\\{\\lambda^S_s\\}$ and $|S|$-wide series $<p_t(s)>$ at each location\n",
    "\n",
    "### Immunity Model\n",
    "\n",
    "Acquired population immunity changes the transmission model.  If an individual has some degree of immunity then the transmission threshold for that individual increases.\n",
    "\n",
    "Immunity is a function of how the individual acquired (i.e., infection, vaccine type, vaccine dosage) and potentially the time since it was acquired (e.g., after a vaccine immunity increases for a period and then diminishes with time).    Let $\\theta$ be the effectiveness of an individual's immunity.  This means that under equivalent exposure scenarios $P(\\text{infection} | \\text{immunity}) = (1-\\theta)\\ P(\\text{infection} | \\text{no immunity})$. \n",
    "\n",
    "Let $I_{s,t}$ be the random variable over the sample space $[0,1]$ representing population immunity at $t$ for strain $s$; that is $p_{I_{s,t}}(\\theta)$ is the probability that a random individual has immunity with effectiveness $\\theta$.  The contagion (transmission) for strain $s$ at $t$ is modelled by the scale mixture (compound random variable) $C_{s,t}(\\lambda_s, I_{s,t})$.  The pdf for $C_{s,t}$ is goven by:\n",
    "\n",
    "$$p_{C_{s,t}}(x) = \\int{ \\lambda_{s, \\theta} e^{-\\lambda_{s,\\theta} x} p_{I_{s,t}}(\\theta) d \\theta}$$\n",
    "\n",
    "where $\\lambda_{s,\\theta} = \\frac{\\lambda_s}{1 - \\theta}$. Need to prove this is well defined for reasonable immunity models.\n",
    "\n",
    "\n",
    "### Resolution Model.\n",
    "\n",
    "Infections resolve after a period of time.  Either the infected individual recovers and is no longer infectious or the infected individual dies and is no longer infectious.  We assume that resolution is independent of time and virus strain.  Resolution can be assumed to follow a poisson distribution $r(n;\\lambda)$ representing the probability that a case resolves after $n$ time periods. Let $Res$ be the random variable representing the resolution model.\n",
    "\n",
    "## Growth Model for a Single Location\n",
    "\n",
    "Transmission rate at time $t$ is given by\n",
    "\n",
    "$$ R_t = \\sum_{s \\in S}{p_t(s) \\int_{x}{P_t(E=x) P(C_s=x)} dx} = \\sum_{s \\in S}{ p_t(s) \\frac{\\lambda^E_t \\lambda^S_s}{\\lambda^E_t + \\lambda^S_s} }$$\n",
    "\n",
    "Let $\\alpha_t(k)$ be the active cases of age $k$ at time $t$ as a proportion of the population, and let $\\alpha_t = \\sum_{k}{\\alpha_t(k)}$.  We have,\n",
    "\n",
    "$$\\alpha_{t+1}(k+1) = \\alpha_t(k) Prob(Res > k) \\text{ and } \\alpha_{t+1}(0) = \\alpha_t R_t$$\n",
    " \n",
    "\n",
    "\n",
    "\n",
    "## Estimating True Incidence\n",
    "\n",
    "Let $\\eta_t$ be the incidence rate (proportion of the population) infected at time $t$.  \n"
   ]
  },
  {
   "cell_type": "code",
   "execution_count": null,
   "metadata": {},
   "outputs": [],
   "source": [
    "\n",
    "fit_win = 14\n",
    "meas_win = 7\n",
    "tests = can.var_by_location(\"new_tests_rate\", *can.provinces, ma_window=1)*1000\n",
    "cases = can.var_by_location(\"new_cases_rate\", *can.provinces, ma_window=1)\n",
    "deaths = can.var_by_location(\"new_deaths_rate\", *can.provinces, ma_window=meas_win).fillna(0)\n",
    "posrate = can.pos_test_rate(meas_win, *can.provinces)\n",
    "posgrowth = can.growth_rate(\"pos_test_rate\", meas_win, *can.provinces)\n",
    "new_cases_abs = can.var_by_location(\"new_cases\", *can.provinces, ma_window=1)\n",
    "new_cases_abs[can.provinces][-7:]"
   ]
  },
  {
   "cell_type": "code",
   "execution_count": null,
   "metadata": {
    "jupyter": {
     "source_hidden": true
    },
    "tags": []
   },
   "outputs": [],
   "source": [
    "100000 * cases[can.provinces][-7:]"
   ]
  },
  {
   "cell_type": "code",
   "execution_count": null,
   "metadata": {
    "tags": []
   },
   "outputs": [],
   "source": [
    "pt_1day = can.pos_test_rate(1, *can.provinces)\n",
    "\n",
    "pt_tests_dict = {}\n",
    "for loc in can.provinces:\n",
    "    a = (100*pt_1day[loc]).apply(lambda x: f\"{x:.2f}\")\n",
    "    b = tests[loc].apply(lambda x: f\"{x:.2f}\")\n",
    "    pt_tests_dict[loc] = a + \" / \" + b\n",
    "\n",
    "pt_tests_df = pd.DataFrame(pt_tests_dict)\n",
    "pt_tests_df[-7:]"
   ]
  },
  {
   "cell_type": "code",
   "execution_count": null,
   "metadata": {},
   "outputs": [],
   "source": [
    "location = \"Ontario\""
   ]
  },
  {
   "cell_type": "code",
   "execution_count": null,
   "metadata": {
    "jupyter": {
     "source_hidden": true
    },
    "tags": []
   },
   "outputs": [],
   "source": [
    "from src.models.growth import GeometricProcess\n",
    "\n",
    "def predict_on_growth_trend(model, k, trend_win=14):\n",
    "    \"\"\"\n",
    "    Predict positivity rate out k time periods based on model\n",
    "    \"\"\"\n",
    "    growth = np.exp(model[\"LogGrowthRate\"].values)\n",
    "    m = (growth[-1] - growth[-trend_win]) / trend_win\n",
    "    pred_growth = np.array([growth[-1]+ m * (j+1) for j in range(k)])\n",
    "    pred_log_growth = np.log(pred_growth)\n",
    "    log_pt_0 = (model[\"PredictedLogValue\"].values)[-1]\n",
    "    result = log_pt_0 + np.array([np.sum(pred_log_growth[0:j+1]) for j in range(k)])\n",
    "    return pred_growth, np.exp(result)\n",
    "    \n",
    "\n",
    "proc = GeometricProcess(est_per=fit_win)\n",
    "proc.fit(posrate[location])\n",
    "\n",
    "# Get sign changes in growth rate\n",
    "grzeros = zeros(proc.model[\"LogGrowthRate\"])\n",
    "\n",
    "x = [idx.date() for idx in proc.model.index]\n",
    "x_shifted = proc.model.index - proc.est_per * pd.Timedelta(\"1 day\")\n",
    "\n",
    "model = np.exp(proc.model)\n",
    "model.columns = [\"Growth Rate\", \"Prior Positivity Rate\", \"Error\", \"Predicted Positivity Rate\", \"Measured Positivity Rate\"]\n",
    "model[-14:]"
   ]
  },
  {
   "cell_type": "code",
   "execution_count": null,
   "metadata": {},
   "outputs": [],
   "source": [
    "predict_on_growth_trend(proc.model, 45, trend_win=7)"
   ]
  },
  {
   "cell_type": "code",
   "execution_count": null,
   "metadata": {
    "jupyter": {
     "source_hidden": true
    },
    "tags": []
   },
   "outputs": [],
   "source": [
    "save_file = True\n",
    "    \n",
    "doubling_ticks = [-2, -3, -4, -5, -6, -7, -14, -28, np.inf, 28, 14, 7, 6, 5, 4, 3, 2]\n",
    "doubling_tick_locs = [rate_to_dbl_in(nper) for nper in doubling_ticks]\n",
    "doubling_tick_labels = [doubling_time(tick) for tick in doubling_tick_locs]\n",
    "doubling_hlines = [rate_to_dbl_in(nper) for nper in [-28, np.inf]]\n",
    "\n",
    "\n",
    "#dashboard, db_ax = plt.subplots(nrows=2, ncols=1, sharex=False, figsize=(16,24))\n",
    "dashboard = plt.figure(figsize=(16,36))\n",
    "db_ax = []\n",
    "gs = GridSpec(5,1, figure=dashboard)\n",
    "db_ax.append(dashboard.add_subplot(gs[0:2,:]))\n",
    "db_ax.append(dashboard.add_subplot(gs[3,:]))\n",
    "db_ax.append(dashboard.add_subplot(gs[2,:]))\n",
    "db_ax.append(dashboard.add_subplot(gs[4,:]))\n",
    "\n",
    "db_ax[0].bar(cases.index, cases[location]*1000000, color=\"cornflowerblue\")\n",
    "#db_ax[0].plot(cases.index, deaths[location], color=\"black\")\n",
    "db_ax[0].set_ylabel(f\"Number of new cases per million\")\n",
    "db_ax0r = db_ax[0].twinx()\n",
    "db_ax0r.plot(x, np.exp(proc.model[\"PredictedLogValue\"]), \n",
    "         c=\"orange\", lw=6, label=\"Smoothed Positive Test Rate\")\n",
    "db_ax0r.scatter(pt_1day.index, pt_1day[location], \n",
    "                c=\"black\", label=f\"Positive test rate\" )\n",
    "db_ax0r.set_ylim((0, 0.25))\n",
    "db_ax0r.set_ylabel(\"Positive test rate\")\n",
    "db_ax[0].set_xlim((min(cases.index), max(cases.index)))\n",
    "db_ax[0].set_title(f\"New Cases per Million compared with Positive Test Rate for {location}\")\n",
    "db_ax0r.legend()\n",
    "\n",
    "db_ax0r.axhline(y=np.exp(proc.model.iloc[-1][\"PredictedLogValue\"]), lw=3, linestyle=\"-.\", c=\"orange\")\n",
    "\n",
    "#db_ax[1].plot(posgrowth.index, posgrowth[location], lw=6, label=\"Growth Rate\")\n",
    "#posgrowth_ma = posgrowth.rolling(14).mean()[location]\n",
    "#db_ax[1].plot(posgrowth.index, posgrowth_ma, lw=6, c=\"orange\", label=\"14-day moving average\")\n",
    "db_ax[1].plot(x, np.exp(proc.model[\"LogGrowthRate\"])-1, lw=6,\n",
    "            c=\"blue\", label=f\"Growth Rate over previous {fit_win}-days\")\n",
    "db_ax[1].set_xlim((min(cases.index), max(cases.index)))\n",
    "db_ax[1].set_ylim( (-0.2, 0.14))\n",
    "db_ax[1].set_yticks(doubling_tick_locs[5:-5])\n",
    "db_ax[1].set_yticklabels(doubling_tick_labels[5:-5])\n",
    "db_ax[1].set_ylabel(\"Number of days to double / halve\")\n",
    "db_ax[1].set_title(f\"Growth rate for new infections in {location}\")\n",
    "db_ax[1].legend(loc=(0, 0.05))\n",
    "\n",
    "for y in doubling_hlines:\n",
    "    db_ax[1].axhline(y=y)\n",
    "\n",
    "db_ax[1].axhspan(0, db_ax[1].get_ylim()[1], color=\"red\", alpha=0.5)  # danger zone\n",
    "db_ax[1].axhspan(rate_to_dbl_in(-28), 0, color=\"yellow\", alpha=0.5)  # Time to pay attention\n",
    "db_ax[1].axhspan(db_ax[1].get_ylim()[0], rate_to_dbl_in(-28), color=\"green\", alpha=0.5)  # Comfort zone\n",
    "\n",
    "# if location == \"Ontario\":\n",
    "#     db_ax[1].axvline(x=\"2020-05-19\", linestyle=\"-\", lw=6)\n",
    "#     db_ax[1].annotate(\"Phase 1  \\nopening begins  \", \n",
    "#                       (\"2020-05-19\", 0.1),\n",
    "#                      horizontalalignment=\"right\")\n",
    "#     db_ax[1].axvline(x=\"2020-06-12\", linestyle=\"-\", lw=6)\n",
    "#     db_ax[1].annotate(\"Phase 2  \\nopening begins  \", \n",
    "#                       (\"2020-06-12\", 0.1),\n",
    "#                      horizontalalignment=\"right\")\n",
    "#     db_ax[1].axvline(x=\"2020-07-17\", linestyle=\"-\", lw=6)\n",
    "#     db_ax[1].annotate(\"Phase 3  \\nopening begins  \", \n",
    "#                       (\"2020-07-17\", 0.1),\n",
    "#                      horizontalalignment=\"right\")\n",
    "#     db_ax[1].axvline(x=\"2020-09-23\", linestyle=\"-\", lw=6)\n",
    "#     db_ax[1].annotate(\"Bars and restaurants  \\nordered to close early  \", \n",
    "#                       (\"2020-09-23\", 0.1),\n",
    "#                      horizontalalignment=\"right\")\n",
    "#     db_ax[1].axvline(x=\"2020-10-14\", linestyle=\"-\", lw=6)\n",
    "#     db_ax[1].annotate(\"Modified Phase 2  \\nPeel, Toronto, Ottawa  \", \n",
    "#                       (\"2020-10-14\", 0.075),\n",
    "#                      horizontalalignment=\"right\")\n",
    "#     db_ax[1].axvline(x=\"2020-12-26\", linestyle=\"-\", lw=6)\n",
    "#     db_ax[1].annotate(\"Province Wide Lock Down\", \n",
    "#                       (\"2020-12-26\", 0.1),\n",
    "#                      horizontalalignment=\"right\")\n",
    "#     db_ax[1].axvline(x=\"2021-01-13\", linestyle=\"-\", lw=6)\n",
    "#     db_ax[1].annotate(\"Emergency Stay at Home Order\", \n",
    "#                       (\"2021-01-13\", 0.075),\n",
    "#                      horizontalalignment=\"right\")\n",
    "\n",
    "\n",
    "\n",
    "anpos = 1\n",
    "for idx in grzeros:\n",
    "    db_ax[1].axvline(x=idx, linestyle=\"--\")\n",
    "    db_ax[1].annotate(str(idx.date())[-5:], (idx, 0.002 + db_ax[1].get_ylim()[0] + anpos * 0.01))\n",
    "    anpos = (anpos + 1) % 2\n",
    "\n",
    "tests_ave = can.var_by_location(\"new_tests_rate\", location, ma_window=fit_win) * 1000\n",
    "db_ax[2].bar(tests.index, tests[location], label=\"Daily tests per 1000\")\n",
    "db_ax[2].plot(tests_ave.index, tests_ave, c=\"orange\", lw=6, label=f\"{meas_win} day moving average\")\n",
    "db_ax[2].set_title(f\"Daily Number of Tests per Thousand for {location}\")\n",
    "db_ax[2].set_ylabel(\" Number of Tests per Thousand\")\n",
    "db_ax[2].set_xlim((min(tests.index), max(tests.index)))\n",
    "db_ax[2].set_ylim((0, 6))\n",
    "db_ax[2].legend(loc=\"upper left\")\n",
    "\n",
    "# zoom in on growth rate\n",
    "zoom = 60\n",
    "db_ax[3].plot(x[-zoom:], np.exp(proc.model[-zoom:][\"LogGrowthRate\"])-1, lw=6,\n",
    "            c=\"blue\", label=f\"Growth Rate over previous {fit_win}-days\")\n",
    "db_ax[3].set_xlim( ( min(x[-zoom:]), max(x[-zoom:]) ) )\n",
    "db_ax[3].set_ylim( (-0.2, 0.07))\n",
    "db_ax[3].set_yticks(doubling_tick_locs[8:-7])\n",
    "db_ax[3].set_yticklabels(doubling_tick_labels[8:-7])\n",
    "db_ax[3].set_ylabel(\"Number of days to double / halve\")\n",
    "db_ax[3].set_title(f\"Growth rate for new infections in {location} in last {zoom} days\")\n",
    "db_ax[3].legend(loc=(0, 0.05))\n",
    "\n",
    "for y in doubling_hlines:\n",
    "    db_ax[3].axhline(y=y)\n",
    "\n",
    "db_ax[3].axhspan(0, db_ax[1].get_ylim()[1], color=\"red\", alpha=0.5)  # danger zone\n",
    "db_ax[3].axhspan(rate_to_dbl_in(-28), 0, color=\"yellow\", alpha=0.5)  # Time to pay attention\n",
    "db_ax[3].axhspan(db_ax[1].get_ylim()[0], rate_to_dbl_in(-28), color=\"green\", alpha=0.5)  # Comfort zone\n",
    "\n",
    "for idx in grzeros:\n",
    "    if idx in x[-zoom:]:\n",
    "        db_ax[3].axvline(x=idx, linestyle=\"--\")\n",
    "        db_ax[3].annotate(str(idx.date())[-5:], (idx, 0))\n",
    "\n",
    "    \n",
    "\n",
    "\n",
    "if save_file:\n",
    "    as_of = x[-1]\n",
    "    savefile = f\"{as_of}_COVID_Dashboard_{location}.png\"\n",
    "    plt.savefig(Path.home().joinpath(\"Documents/COVID/\" + savefile), format=\"png\")\n",
    "\n",
    "\n"
   ]
  },
  {
   "cell_type": "code",
   "execution_count": null,
   "metadata": {},
   "outputs": [],
   "source": [
    "ptr = list(map(doubling_time, np.exp(proc.model[\"LogGrowthRate\"])-1))\n",
    "ptr[-10:]"
   ]
  },
  {
   "cell_type": "code",
   "execution_count": null,
   "metadata": {
    "jupyter": {
     "source_hidden": true
    },
    "tags": []
   },
   "outputs": [],
   "source": [
    "f1, ax1 = plt.subplots(nrows=3, ncols=1, figsize=(16,36), sharex=True)\n",
    "\n",
    "ax1[0].plot(x, np.exp(proc.model[\"LogGrowthRate\"])-1, \n",
    "            c=\"blue\", label=f\"Growth Rate over previous {fit_win}-days\")\n",
    "ax1[0].plot(x, np.exp(proc.model[\"LogPriorProcessLoad\"]), \n",
    "         c=\"orange\", label=f\"Disease Burden {fit_win}-days prior\")\n",
    "ax1[0].plot(x, np.exp(proc.model[\"PredictedLogValue\"]), \n",
    "         c=\"black\", lw=3, label=\"Predicted Positive Test Rate\")\n",
    "ax1[0].scatter(posrate.index, posrate[location] )\n",
    "ax1[0].set_ylim((-0.1, 0.15))\n",
    "ax1[0].legend()\n",
    "\n",
    "for idx in grzeros:\n",
    "    ax1[0].axvline(x=idx, linestyle=\"--\")\n",
    "ax1[0].axhline(y=0)\n",
    "\n",
    "#ax1[1].plot(posrate.index[x], [fit[0][0] for fit in fits], c=\"blue\", label=\"Log Growth Rate\")\n",
    "ax1[1].plot(x_shifted, proc.model[\"LogPriorProcessLoad\"], \n",
    "         c=\"orange\", label=f\"Log Disease Burden {fit_win}-days prior\")\n",
    "ax1[1].plot(x, proc.model[\"PredictedLogValue\"], \n",
    "         c=\"black\", lw=3, \n",
    "         label=f\"Log Predicted Positive Test Rate = Log Burden(t-{fit_win}) + Log Growth * {fit_win})\")\n",
    "ax1[1].scatter(posrate.index, np.log(posrate[location]) )\n",
    "#ax1[1].set_ylim((-0.1, 0.1))\n",
    "ax1[1].legend()\n",
    "\n",
    "for idx in grzeros:\n",
    "    ax1[1].axvline(x=idx, linestyle=\"--\")\n",
    "\n",
    "ax1[2].plot(x, proc.model[\"LogGrowthRate\"], \n",
    "            c=\"blue\", label=f\"Log Growth Rate over previous {fit_win}-days\")\n",
    "#ax1[2].plot(x, lgr, \n",
    "#            c=\"red\", label=f\"Log Growth Rate Core Processes\")\n",
    "ax1[2].legend()\n",
    "\n",
    "ax1[2].axhline(y=0)\n",
    "for idx in grzeros:\n",
    "    ax1[2].axvline(x=idx, linestyle=\"--\")"
   ]
  },
  {
   "cell_type": "raw",
   "metadata": {},
   "source": [
    "ont = pd.read_csv(\"https://data.ontario.ca/dataset/f4112442-bdc8-45d2-be3c-12efae72fb27/resource/455fd63b-603d-4608-8216-7d8647f43350/download/conposcovidloc.csv\")"
   ]
  },
  {
   "cell_type": "raw",
   "metadata": {
    "tags": []
   },
   "source": [
    "ont"
   ]
  },
  {
   "cell_type": "raw",
   "metadata": {
    "tags": []
   },
   "source": [
    "ont.columns"
   ]
  },
  {
   "cell_type": "raw",
   "metadata": {},
   "source": [
    "   \n",
    "\n",
    "def cross_cov(s1,s2):\n",
    "    \"\"\"\n",
    "    Return the cross covariance of s1 and s2\n",
    "    \"\"\"\n",
    "    \n",
    "    n = len(s1)\n",
    "    max_lag = n // 2\n",
    "    x1 = s1.values; m1 = np.mean(x1)\n",
    "    x2 = s2.values; m2 = np.mean(x2)\n",
    "    result = []\n",
    "    for h in range(max_lag):\n",
    "        result.append(\n",
    "            sum([(x1[t] - m1) * (x2[t-h] - m2) for t in range(h,n)]) / n\n",
    "        )\n",
    "    return result\n",
    "\n",
    "ccv = cross_cov(deaths[31:][location], posrate[31:][location])\n",
    "plt.plot(range(len(ccv)), ccv)\n",
    "        "
   ]
  },
  {
   "cell_type": "raw",
   "metadata": {},
   "source": [
    "ccv = cross_cov(tests[31:][location], posrate[31:][location])\n",
    "plt.plot(range(len(ccv)), ccv)\n",
    "        "
   ]
  },
  {
   "cell_type": "raw",
   "metadata": {},
   "source": [
    "acv_matrix = np.cov(posrate[31:])\n",
    "acv_matrix"
   ]
  },
  {
   "cell_type": "raw",
   "metadata": {},
   "source": [
    "cases[-7:]"
   ]
  },
  {
   "cell_type": "raw",
   "metadata": {},
   "source": [
    "new_cases_abs = can.var_by_location(\"new_cases\", *can.maritimes)\n",
    "new_cases_abs.plot(figsize=(16,12))"
   ]
  },
  {
   "cell_type": "raw",
   "metadata": {},
   "source": [
    "can.var_by_location(\"new_tests\", *can.maritimes, ma_window=3).plot(figsize=(16,12), ylim=(0,8000))"
   ]
  },
  {
   "cell_type": "raw",
   "metadata": {
    "tags": []
   },
   "source": [
    "import urllib.request as urllib\n",
    "import json\n",
    "\n",
    "url = 'https://data.ontario.ca/api/3/action/datastore_search?resource_id=455fd63b-603d-4608-8216-7d8647f43350'  \n",
    "fileobj = urllib.urlopen(url)\n",
    "data = json.loads(fileobj.read())\n",
    "data"
   ]
  },
  {
   "cell_type": "raw",
   "metadata": {},
   "source": [
    "cols = {fld['id']: [] for fld in data['result']['fields']}\n",
    "for row in data['result']['records']:\n",
    "    for fld in cols:\n",
    "        cols[fld].append(row.get(fld, np.nan))\n",
    "\n",
    "ont_data_raw = pd.DataFrame(cols, index=cols[\"_id\"])\n",
    "ont_data_raw"
   ]
  },
  {
   "cell_type": "raw",
   "metadata": {},
   "source": [
    "adj_tests = (tests - tests.rolling(7).mean()) / 1000\n",
    "\n",
    "on_adj_tests = adj_tests[\"Ontario\"]\n",
    "on_pt = pt_1day[\"Ontario\"]\n",
    "on_adj_pt = on_pt - posrate[\"Ontario\"]\n",
    "\n",
    "fig, ax = plt.subplots(nrows=1,ncols=1, figsize=(16,12))\n",
    "\n",
    "ax.plot(on_adj_tests.index, 10 * on_adj_tests.values, c=\"orange\")\n",
    "#axr = ax.twinx()\n",
    "ax.plot(on_pt.index, on_adj_pt.values)"
   ]
  },
  {
   "cell_type": "raw",
   "metadata": {},
   "source": [
    "can.plot_var(\"new_tests_rate\", \"Ontario\", \"Alberta\", \"Canada\", figsize=(16,12), ma_window=14)"
   ]
  },
  {
   "cell_type": "raw",
   "metadata": {},
   "source": [
    "data = np.empty((len(on_pt),2))\n",
    "data[:,0] = on_adj_tests.values\n",
    "data[:,1] = on_adj_pt.values\n",
    "data.shape"
   ]
  },
  {
   "cell_type": "raw",
   "metadata": {},
   "source": [
    "cov_img = np.ma.cov(np.ma.array(data.T, mask=(np.isnan(data.T))))\n",
    "cov_img"
   ]
  },
  {
   "cell_type": "raw",
   "metadata": {
    "tags": []
   },
   "source": [
    "data"
   ]
  },
  {
   "cell_type": "raw",
   "metadata": {},
   "source": [
    "dateparse = lambda x: datetime.date(*time.strptime(x, '%d-%m-%Y')[:3])\n",
    "src = pd.read_csv(\"https://health-infobase.canada.ca/src/data/covidLive/covid19.csv\",\n",
    "                         error_bad_lines=False,\n",
    "                         warn_bad_lines=False,\n",
    "                         parse_dates=['date'],\n",
    "                         date_parser= dateparse)\n",
    "src.columns"
   ]
  },
  {
   "cell_type": "raw",
   "metadata": {},
   "source": [
    "feb = src[-15:]\n",
    "feb.count()"
   ]
  },
  {
   "cell_type": "raw",
   "metadata": {},
   "source": [
    "src[\"update\"].describe()"
   ]
  },
  {
   "cell_type": "raw",
   "metadata": {},
   "source": [
    "src[[\"prname\", \"numtests\"]]"
   ]
  },
  {
   "cell_type": "raw",
   "metadata": {},
   "source": [
    "np.nan + 5"
   ]
  },
  {
   "cell_type": "raw",
   "metadata": {},
   "source": [
    "import pandas as pd\n",
    "\n",
    "def _get_canada():\n",
    "    url = \"https://www150.statcan.gc.ca/n1/pub/91-002-x/2019004/quarterly_trimestrielles_202001_v1.xlsx\"\n",
    "    pr_mapper = {'Canada': 'Canada',\n",
    "                 'N.L.': 'Newfoundland and Labrador',\n",
    "                 'P.E.I.': 'Prince Edward Island',\n",
    "                 'N.S.': 'Nova Scotia',\n",
    "                 'N.B.': 'New Brunswick',\n",
    "                 'Que.': 'Quebec',\n",
    "                 'Ont.': 'Ontario',\n",
    "                 'Man.': 'Manitoba',\n",
    "                 'Sask.': 'Saskatchewan',\n",
    "                 'Alta.': 'Alberta',\n",
    "                 'B.C.': 'British Columbia',\n",
    "                 'Y.T.': 'Yukon',\n",
    "                 'N.W.T.': 'Northwest Territories',\n",
    "                 'Nvt.': 'Nunavut'}\n",
    "    areas = {\n",
    "        'Canada': 9093507,\n",
    "        'Newfoundland and Labrador': 373872,\n",
    "        'Prince Edward Island': 5660,\n",
    "        'Nova Scotia': 53338,\n",
    "        'New Brunswick': 71450,\n",
    "        'Quebec': 1365128,\n",
    "        'Ontario': 917741,\n",
    "        'Manitoba': 553556,\n",
    "        'Saskatchewan': 591670,\n",
    "        'Alberta': 642317,\n",
    "        'British Columbia': 925186,\n",
    "        'Yukon': 474391,\n",
    "        'Northwest Territories': 1183085,\n",
    "        'Nunavut': 1936113\n",
    "    }\n",
    "    df = pd.read_excel(\n",
    "        url,\n",
    "        sheet_name=\"Population\",\n",
    "        header=[3],\n",
    "        skiprows=[4],\n",
    "        engine=\"openpyxl\"\n",
    "    )\n",
    "    df = df.filter(items=[\"Year\", \"Month\"]+list(pr_mapper), axis=1)\n",
    "    df.rename(columns=pr_mapper, inplace=True)\n",
    "    df = df.set_index([\"Year\", \"Month\"])\n",
    "    df = df.stack(dropna=False)\n",
    "    df = df.reset_index()\n",
    "    df.rename(columns={\n",
    "                        'Year': 'year',\n",
    "                        'Month': 'month',\n",
    "                        'level_2': 'location',\n",
    "                         0: 'population'},\n",
    "              inplace=True\n",
    "    )\n",
    "    df['population'] = df['population'].apply(float)\n",
    "    df[\"population_density\"] = df[\"population\"] / (df[\"location\"].apply(lambda loc: areas[loc]))\n",
    "    return df.loc[(df.year == 2020) & (df.month == 1)].drop('month', axis='columns')"
   ]
  },
  {
   "cell_type": "raw",
   "metadata": {
    "tags": []
   },
   "source": [
    "can_pop = _get_canada()\n",
    "can_pop"
   ]
  },
  {
   "cell_type": "raw",
   "metadata": {},
   "source": [
    "raw = pd.read_csv(can.src_url,error_bad_lines=False,warn_bad_lines=False)"
   ]
  },
  {
   "cell_type": "raw",
   "metadata": {
    "tags": []
   },
   "source": [
    "for col in raw.columns:\n",
    "    print(col)"
   ]
  },
  {
   "cell_type": "raw",
   "metadata": {},
   "source": [
    "raw.loc[raw[\"prname\"]==\"Ontario\"][\"percentoday\"].plot(figsize=(16,12), ylim=(0,10))"
   ]
  },
  {
   "cell_type": "raw",
   "metadata": {
    "tags": []
   },
   "source": [
    "# Define a hill with varying degrees of steepness"
   ]
  }
 ],
 "metadata": {
  "kernelspec": {
   "display_name": "Python 3",
   "language": "python",
   "name": "python3"
  },
  "language_info": {
   "codemirror_mode": {
    "name": "ipython",
    "version": 3
   },
   "file_extension": ".py",
   "mimetype": "text/x-python",
   "name": "python",
   "nbconvert_exporter": "python",
   "pygments_lexer": "ipython3",
   "version": "3.8.8"
  }
 },
 "nbformat": 4,
 "nbformat_minor": 4
}
